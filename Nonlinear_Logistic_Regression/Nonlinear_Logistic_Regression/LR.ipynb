{
 "metadata": {
  "name": "",
  "signature": "sha256:47cce93a45cfa5f8fe180e6786df1427740e977e183ab707eb688ee1614ff324"
 },
 "nbformat": 3,
 "nbformat_minor": 0,
 "worksheets": [
  {
   "cells": [
    {
     "cell_type": "code",
     "collapsed": false,
     "input": [
      "import matplotlib.pyplot as plt\n",
      "import random\n",
      "import numpy as np\n",
      "from sklearn.metrics import classification_report\n",
      "from sklearn import preprocessing\n",
      "from sklearn.preprocessing import PolynomialFeatures\n",
      "%matplotlib inline"
     ],
     "language": "python",
     "metadata": {},
     "outputs": [],
     "prompt_number": 1
    },
    {
     "cell_type": "code",
     "collapsed": false,
     "input": [
      "rd = np.random.rand(200)\n",
      "x1 = np.linspace(-1, 1, 200)\n",
      "y1 = np.sqrt(1 - x1**2) + rd\n",
      "\n",
      "rd = np.random.rand(200)\n",
      "x2 = np.linspace(-2, 2, 200)\n",
      "y2 = np.sqrt(4 - x2**2) + rd\n",
      "\n",
      "def plot(x1, y1, x2, y2):\n",
      "    scatter0 = plt.scatter(x1, y1, c='b', marker='o')\n",
      "    scatter1 = plt.scatter(x2, y2, c='r', marker='x')\n",
      "    plt.legend(handles=[scatter0, scatter1], labels=['label0','label1'],loc='best')\n",
      "    \n",
      "plot(x1, y1, x2, y2)\n",
      "plt.show() \n",
      "\n",
      "x = np.hstack((x1,x2))\n",
      "y = np.hstack((y1,y2))\n",
      "x_data = np.vstack((x, y)).T\n",
      "print (x_data.shape)\n",
      "x_label = [0]*len(x1) + [1]*len(x2)\n",
      "print (len(x_label))"
     ],
     "language": "python",
     "metadata": {},
     "outputs": [
      {
       "metadata": {},
       "output_type": "display_data",
       "png": "[encoded data removed]",
       "text": [
        "<matplotlib.figure.Figure at 0x7f78b95bd470>"
       ]
      },
      {
       "output_type": "stream",
       "stream": "stdout",
       "text": [
        "(400, 2)\n",
        "400\n"
       ]
      }
     ],
     "prompt_number": 2
    },
    {
     "cell_type": "code",
     "collapsed": false,
     "input": [
      "test = [[2,3]]\n",
      "poly_reg = PolynomialFeatures(degree=3)\n",
      "x_poly = poly_reg.fit_transform(test)\n",
      "x_poly"
     ],
     "language": "python",
     "metadata": {},
     "outputs": [
      {
       "metadata": {},
       "output_type": "pyout",
       "prompt_number": 3,
       "text": [
        "array([[  1.,   2.,   3.,   4.,   6.,   9.,   8.,  12.,  18.,  27.]])"
       ]
      }
     ],
     "prompt_number": 3
    },
    {
     "cell_type": "code",
     "collapsed": false,
     "input": [
      "poly_reg = PolynomialFeatures(degree=3)\n",
      "x_poly = poly_reg.fit_transform(x_data)\n",
      "x_poly.shape"
     ],
     "language": "python",
     "metadata": {},
     "outputs": [
      {
       "metadata": {},
       "output_type": "pyout",
       "prompt_number": 4,
       "text": [
        "(400, 10)"
       ]
      }
     ],
     "prompt_number": 4
    },
    {
     "cell_type": "code",
     "collapsed": false,
     "input": [
      "def sigmoid(x):\n",
      "    return 1.0/(1.0+np.exp(-x))\n",
      "\n",
      "def cost(xMat, yMat, w):\n",
      "    left = np.multiply(yMat, np.log(sigmoid(xMat*w)))\n",
      "    right = np.multiply(1-yMat, np.log(1-sigmoid(xMat*w)))\n",
      "    return np.sum(left+right)/(-len(xMat))\n",
      "\n",
      "def train(xdata, ylabel, lr = 0.005, epoches = 50000):\n",
      "    xMat = np.mat(xdata)\n",
      "    yMat = np.mat(ylabel).T\n",
      "    \n",
      "    costList = []\n",
      "    m,n = np.shape(xMat)\n",
      "    w = np.mat(np.ones((n,1)))\n",
      "    #b = np.mat(1.0)\n",
      "    for i in range(epoches):\n",
      "        a = sigmoid(xMat*w)\n",
      "        w_grad = np.dot(xMat.T, (a-yMat))/m\n",
      "        w -= np.dot(lr,w_grad)\n",
      "        #b_grad = np.sum((a-yMat))/m\n",
      "        #b -= lr*b_grad\n",
      "        if i % 250 == 0:\n",
      "            costList.append(cost(xMat, yMat, w))\n",
      "    return w, costList\n",
      "    \n",
      "    \n",
      "    "
     ],
     "language": "python",
     "metadata": {},
     "outputs": [],
     "prompt_number": 5
    },
    {
     "cell_type": "code",
     "collapsed": false,
     "input": [
      "w, costList = train(x_poly, x_label)\n",
      "print (w)"
     ],
     "language": "python",
     "metadata": {},
     "outputs": [
      {
       "output_type": "stream",
       "stream": "stdout",
       "text": [
        "[[-3.83546316]\n",
        " [ 0.2169426 ]\n",
        " [-3.53782528]\n",
        " [ 1.31222988]\n",
        " [ 0.13701306]\n",
        " [-2.25091755]\n",
        " [ 0.04034158]\n",
        " [ 2.41705821]\n",
        " [-0.10745187]\n",
        " [ 2.43028172]]\n"
       ]
      },
      {
       "output_type": "stream",
       "stream": "stderr",
       "text": [
        "-c:6: RuntimeWarning: divide by zero encountered in log\n",
        "-c:6: RuntimeWarning: invalid value encountered in multiply\n"
       ]
      }
     ],
     "prompt_number": 6
    },
    {
     "cell_type": "code",
     "collapsed": false,
     "input": [
      "x = np.linspace(0,10000,200)\n",
      "print (x.shape)\n",
      "print (len(costList))\n",
      "plt.plot(x, costList, c='r')\n",
      "plt.title(\"Train\")\n",
      "plt.xlabel('Epochs')\n",
      "plt.ylabel('Cost')\n",
      "plt.show()"
     ],
     "language": "python",
     "metadata": {},
     "outputs": [
      {
       "output_type": "stream",
       "stream": "stdout",
       "text": [
        "(200,)\n",
        "200\n"
       ]
      },
      {
       "metadata": {},
       "output_type": "display_data",
       "png": "[encoded data removed]",
       "text": [
        "<matplotlib.figure.Figure at 0x7f78b95c1438>"
       ]
      }
     ],
     "prompt_number": 7
    },
    {
     "cell_type": "code",
     "collapsed": false,
     "input": [
      "x_min, x_max = x_data[:,0].min()-1, x_data[:,0].max()+1\n",
      "y_min, y_max = x_data[:,1].max()-1, x_data[:,1].max()+1\n",
      "\n",
      "xx, yy = np.meshgrid(np.arange(x_min, x_max, 0.02),\n",
      "                     np.arange(x_min, x_max, 0.02))\n",
      "\n",
      "z = sigmoid(poly_reg.fit_transform(np.c_[xx.ravel(), yy.ravel()]).dot(np.array(w)))\n",
      "for i in range(len(z)):\n",
      "    if z[i] > 0.5:\n",
      "        z[i] = 1\n",
      "    else:\n",
      "        z[i] = 0\n",
      "print(z.shape, xx.shape)\n",
      "z = z.reshape(xx.shape)\n",
      "cs = plt.contourf(xx, yy, z)\n",
      "plot(x1,y1,x2,y2)\n",
      "plt.show()"
     ],
     "language": "python",
     "metadata": {},
     "outputs": [
      {
       "output_type": "stream",
       "stream": "stdout",
       "text": [
        "(90000, 1) (300, 300)\n"
       ]
      },
      {
       "metadata": {},
       "output_type": "display_data",
       "png": "[encoded data removed]",
       "text": [
        "<matplotlib.figure.Figure at 0x7f78b9563400>"
       ]
      }
     ],
     "prompt_number": 8
    },
    {
     "cell_type": "code",
     "collapsed": false,
     "input": [
      "def predict(x_data, w):\n",
      "    xMat = np.mat(x_data)\n",
      "    w = np.mat(w)\n",
      "    print (xMat.shape)\n",
      "    print (w.shape)\n",
      "    print ((xMat*w).shape)\n",
      "    return [1 if x> 0.5 else 0 for x in sigmoid(xMat*w)]\n",
      "\n",
      "predictions = predict(x_poly, w)\n",
      "\n",
      "print (classification_report(x_label, predictions))"
     ],
     "language": "python",
     "metadata": {},
     "outputs": [
      {
       "output_type": "stream",
       "stream": "stdout",
       "text": [
        "(400, 10)\n",
        "(10, 1)\n",
        "(400, 1)\n",
        "             precision    recall  f1-score   support\n",
        "\n",
        "          0       1.00      1.00      1.00       200\n",
        "          1       1.00      1.00      1.00       200\n",
        "\n",
        "avg / total       1.00      1.00      1.00       400\n",
        "\n"
       ]
      }
     ],
     "prompt_number": 9
    },
    {
     "cell_type": "code",
     "collapsed": false,
     "input": [],
     "language": "python",
     "metadata": {},
     "outputs": [],
     "prompt_number": 9
    },
    {
     "cell_type": "heading",
     "level": 3,
     "metadata": {},
     "source": []
    }
   ],
   "metadata": {}
  }
 ]
}