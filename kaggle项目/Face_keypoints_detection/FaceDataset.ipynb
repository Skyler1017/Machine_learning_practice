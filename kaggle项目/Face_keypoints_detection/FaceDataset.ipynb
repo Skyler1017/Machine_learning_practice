{
 "metadata": {
  "name": "",
  "signature": "sha256:c4cdc1034d87055332a17d6575ffab7014ba90e77e28fd3fcdc26e85ed16ed0c"
 },
 "nbformat": 3,
 "nbformat_minor": 0,
 "worksheets": [
  {
   "cells": [
    {
     "cell_type": "code",
     "collapsed": false,
     "input": [
      "import numpy as np\n",
      "import pandas as pd\n",
      "import cv2\n",
      "import torch.utils.data as data\n",
      "import torch\n",
      "import os\n",
      "import matplotlib.pyplot as plt\n",
      "%matplotlib inline"
     ],
     "language": "python",
     "metadata": {},
     "outputs": [],
     "prompt_number": 93
    },
    {
     "cell_type": "code",
     "collapsed": false,
     "input": [
      "class FaceDataset(data.Dataset):\n",
      "    def __init__(self, path, flag):\n",
      "        super(FaceDataset, self).__init__()\n",
      "        self.path = path\n",
      "        self.flag = flag\n",
      "        self.root = os.path.join(self.path, 'train')\n",
      "        file_name = os.path.join(self.path, self.flag+'.csv')\n",
      "        self.label = pd.read_csv(file_name, header=None)\n",
      "        self.label = np.array(self.label)\n",
      "    def __getitem__(self, index):\n",
      "        img_index = index\n",
      "        if self.flag == 'val':\n",
      "            img_index += 6999\n",
      "        img_path = os.path.join(self.root, str(img_index) + '.jpg')\n",
      "        img = cv2.imread(img_path)\n",
      "        img_gray = cv2.cvtColor(img, cv2.COLOR_BGR2GRAY)\n",
      "        img_norm = img_gray.reshape((1, 96, 96)) / 255.0\n",
      "        img_tensor = torch.from_numpy(img_norm)\n",
      "        img_tensor = img_tensor.type('torch.FloatTensor')\n",
      "        label = self.label[index]\n",
      "        return img_tensor, label\n",
      "    def __len__(self):\n",
      "        return self.label.shape[0]"
     ],
     "language": "python",
     "metadata": {},
     "outputs": [],
     "prompt_number": 94
    },
    {
     "cell_type": "code",
     "collapsed": false,
     "input": [
      "path = 'data'\n",
      "data = FaceDataset(path, 'train')"
     ],
     "language": "python",
     "metadata": {},
     "outputs": [],
     "prompt_number": 95
    },
    {
     "cell_type": "code",
     "collapsed": false,
     "input": [
      "img, label = data.__getitem__(7)\n",
      "\n",
      "#cv2.imshow('1', img)\n",
      "#cv2.waitKey(0)"
     ],
     "language": "python",
     "metadata": {},
     "outputs": [],
     "prompt_number": 96
    },
    {
     "cell_type": "code",
     "collapsed": false,
     "input": [
      "def show_image(X, Y):\n",
      "    img = np.zeros((96,96))\n",
      "    for i in range(0, Y.shape[0], 2):\n",
      "        if 0<Y[i+1]<96 and 0<Y[i]<96:\n",
      "            img[int(Y[i+1]), int(Y[i])] = 255\n",
      "    plt.imshow(img[:,:])"
     ],
     "language": "python",
     "metadata": {},
     "outputs": [],
     "prompt_number": 97
    },
    {
     "cell_type": "code",
     "collapsed": false,
     "input": [
      "show_image(img, label)\n"
     ],
     "language": "python",
     "metadata": {},
     "outputs": [
      {
       "metadata": {},
       "output_type": "display_data",
       "png": "[encoded data removed]",
       "text": [
        "<matplotlib.figure.Figure at 0x7f20be84fe80>"
       ]
      }
     ],
     "prompt_number": 98
    },
    {
     "cell_type": "code",
     "collapsed": false,
     "input": [
      "img.dtype"
     ],
     "language": "python",
     "metadata": {},
     "outputs": [
      {
       "metadata": {},
       "output_type": "pyout",
       "prompt_number": 100,
       "text": [
        "torch.float32"
       ]
      }
     ],
     "prompt_number": 100
    },
    {
     "cell_type": "code",
     "collapsed": false,
     "input": [
      "plt.imshow(img)"
     ],
     "language": "python",
     "metadata": {},
     "outputs": [
      {
       "metadata": {},
       "output_type": "pyout",
       "prompt_number": 87,
       "text": [
        "<matplotlib.image.AxesImage at 0x7f20b98ae860>"
       ]
      },
      {
       "metadata": {},
       "output_type": "display_data",
       "png": "[encoded data removed]",
       "text": [
        "<matplotlib.figure.Figure at 0x7f20be8aa8d0>"
       ]
      }
     ],
     "prompt_number": 87
    },
    {
     "cell_type": "code",
     "collapsed": false,
     "input": [],
     "language": "python",
     "metadata": {},
     "outputs": []
    }
   ],
   "metadata": {}
  }
 ]
}