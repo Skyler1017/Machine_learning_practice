{
 "metadata": {
  "name": "",
  "signature": "sha256:e5c488b0f45c26267e6b3f2f6237c97d2e01468726aaa0f2f41fcc3920ca448e"
 },
 "nbformat": 3,
 "nbformat_minor": 0,
 "worksheets": [
  {
   "cells": [
    {
     "cell_type": "code",
     "collapsed": false,
     "input": [
      "import numpy as np\n",
      "from matplotlib import pyplot as plt\n",
      "%matplotlib inline"
     ],
     "language": "python",
     "metadata": {},
     "outputs": [],
     "prompt_number": 1
    },
    {
     "cell_type": "code",
     "collapsed": false,
     "input": [
      "def sigmoid(z):\n",
      "    return 1 / (1 + np.exp(-z))"
     ],
     "language": "python",
     "metadata": {},
     "outputs": [],
     "prompt_number": 2
    },
    {
     "cell_type": "code",
     "collapsed": false,
     "input": [
      "def compute_loss(a, y):\n",
      "    return -(y*np.log(a) + (1-y)*np.log(1-a))"
     ],
     "language": "python",
     "metadata": {},
     "outputs": [],
     "prompt_number": 3
    },
    {
     "cell_type": "code",
     "collapsed": false,
     "input": [
      "def train(data, label, epochs, lr):\n",
      "    num = len(data)\n",
      "    dim = data.shape[1]\n",
      "    gradWs = np.zeros(dim)\n",
      "    gradBs = 0\n",
      "    losses = []\n",
      "    reg_rate = 0.001  # \u6b63\u5219\u9879\u7cfb\u6570\n",
      "    weight = np.zeros(dim)\n",
      "    bias = 0\n",
      "    for i in range(epochs):\n",
      "        loss = 0\n",
      "        gradW = np.zeros(dim)\n",
      "        gradB = 0\n",
      "        for j in range(num):\n",
      "            z = np.dot(data[j], weight) + bias\n",
      "            a = sigmoid(z)\n",
      "            loss += compute_loss(a, label[j])\n",
      "            #for k in range(dim):\n",
      "            #    gradW[k] += (-1) * (label[j] - a) * data[j, k] + 2 * reg_rate * gradW[k]\n",
      "            gradW += data[j]*(a-label[j])\n",
      "            gradB += (a-label[j])\n",
      "        losses.append(loss/num)\n",
      "        gradWs += gradW**2\n",
      "        gradBs += gradB**2\n",
      "        weight -= lr * gradW/(gradWs**0.5)\n",
      "        bias -= lr * gradB/(gradBs**0.5)\n",
      "        \n",
      "        if i % 3 == 0:\n",
      "            # loss = 0\n",
      "            acc = 0\n",
      "            result = np.zeros(num)\n",
      "            for j in range(num):\n",
      "                y_pre = weight.dot(data[j, :]) + bias\n",
      "                a = 1 / (1 + np.exp(-y_pre))\n",
      "                if a >= 0.5:\n",
      "                    result[j] = 1\n",
      "                else:\n",
      "                    result[j] = 0\n",
      "\n",
      "                if result[j] == label[j]:\n",
      "                    acc += 1.0\n",
      "                loss += (-1) * (label[j] * np.log(a) + (1 - label[j]) * np.log(1 - a))\n",
      "            print('after {} epochs, the loss on train data is:'.format(i), loss / num)\n",
      "            print('after {} epochs, the acc on train data is:'.format(i), acc / num)\n",
      "    print (losses)\n",
      "    plt.plot(losses)\n",
      "    plt.show\n",
      "    return weight, bias\n",
      "    "
     ],
     "language": "python",
     "metadata": {},
     "outputs": [],
     "prompt_number": 4
    },
    {
     "cell_type": "code",
     "collapsed": false,
     "input": [
      "def train_mat(data, label, epochs, lr):\n",
      "    num, dim = data.shape\n",
      "    weight = np.zeros(dim+1)\n",
      "    data = np.concatenate((np.ones((num, 1)), data), axis=1)\n",
      "    gradS = np.zeros(dim+1)\n",
      "    data_t = data.transpose()\n",
      "    for i in range(epochs):\n",
      "        z = np.dot(data, weight)\n",
      "        a = sigmoid(z)\n",
      "        grad = np.dot(data_t, (a - label))\n",
      "        gradS += grad**2\n",
      "        weight -= lr * grad/(gradS**0.5)\n",
      "        if i%3 == 0:\n",
      "            z = np.dot(data, weight)\n",
      "            a = sigmoid(z)\n",
      "            acc = len(np.where(a>0.5)[0])\n",
      "            print (acc)\n",
      "            print('after {} epochs, the acc on train data is:'.format(i), acc / num)\n",
      "    return weight, 0"
     ],
     "language": "python",
     "metadata": {},
     "outputs": [],
     "prompt_number": 5
    },
    {
     "cell_type": "code",
     "collapsed": false,
     "input": [
      "data = np.load('train_data.npy')\n",
      "label = np.load('train_label.npy')\n",
      "epochs = 30\n",
      "lr = 1\n",
      "weight, bias = train(data, label, epochs, lr)\n",
      "#weight, bias = train_mat(data, label, epochs, lr)\n",
      "print (weight)"
     ],
     "language": "python",
     "metadata": {},
     "outputs": [
      {
       "output_type": "stream",
       "stream": "stdout",
       "text": [
        "after 0 epochs, the loss on train data is: nan\n",
        "after 0 epochs, the acc on train data is: 0.6671428571428571\n",
        "after 3 epochs, the loss on train data is:"
       ]
      },
      {
       "output_type": "stream",
       "stream": "stdout",
       "text": [
        " nan\n",
        "after 3 epochs, the acc on train data is: 0.8925714285714286\n",
        "after 6 epochs, the loss on train data is:"
       ]
      },
      {
       "output_type": "stream",
       "stream": "stdout",
       "text": [
        " nan\n",
        "after 6 epochs, the acc on train data is: 0.9174285714285715\n",
        "after 9 epochs, the loss on train data is:"
       ]
      },
      {
       "output_type": "stream",
       "stream": "stdout",
       "text": [
        " nan\n",
        "after 9 epochs, the acc on train data is: 0.9171428571428571\n",
        "after 12 epochs, the loss on train data is:"
       ]
      },
      {
       "output_type": "stream",
       "stream": "stdout",
       "text": [
        " nan\n",
        "after 12 epochs, the acc on train data is: 0.9242857142857143\n",
        "after 15 epochs, the loss on train data is:"
       ]
      },
      {
       "output_type": "stream",
       "stream": "stdout",
       "text": [
        " nan\n",
        "after 15 epochs, the acc on train data is: 0.9171428571428571\n",
        "after 18 epochs, the loss on train data is:"
       ]
      },
      {
       "output_type": "stream",
       "stream": "stdout",
       "text": [
        " nan\n",
        "after 18 epochs, the acc on train data is: 0.88\n",
        "after 21 epochs, the loss on train data is:"
       ]
      },
      {
       "output_type": "stream",
       "stream": "stdout",
       "text": [
        " nan\n",
        "after 21 epochs, the acc on train data is: 0.9117142857142857\n",
        "after 24 epochs, the loss on train data is:"
       ]
      },
      {
       "output_type": "stream",
       "stream": "stdout",
       "text": [
        " nan\n",
        "after 24 epochs, the acc on train data is: 0.9245714285714286\n",
        "after 27 epochs, the loss on train data is:"
       ]
      },
      {
       "output_type": "stream",
       "stream": "stdout",
       "text": [
        " nan\n",
        "after 27 epochs, the acc on train data is: 0.92\n",
        "[0.69314718055993774, nan, nan, nan, nan, nan, nan, nan, nan, nan, nan, nan, nan, nan, nan, nan, nan, nan, nan, nan, nan, nan, nan, nan, nan, nan, nan, nan, nan, nan]"
       ]
      },
      {
       "output_type": "stream",
       "stream": "stdout",
       "text": [
        "\n",
        "[-0.38126145 -0.20966912  0.22632263  1.03109394  0.50508149  1.12808021\n",
        "  2.15981479  0.46267897  0.84314915  0.09434013 -0.38605399 -0.21365656\n",
        "  0.07157737  0.02383779  1.00486464  0.97756852  1.27711304  0.20648427\n",
        "  0.09837524  1.31668992  0.21858887  0.29521341  2.35542328  0.48940357\n",
        " -1.45354259 -1.2511838  -1.46798289  0.58280617 -1.45029877 -0.66465604\n",
        " -1.54475628 -1.12309543 -1.00240312 -0.8543639  -1.43865152  0.72599227\n",
        " -0.04042505 -0.25982353 -1.18106951 -1.25467656 -1.94117793 -1.77684932\n",
        " -1.16421411 -1.30797276 -0.86707952 -1.4741805  -1.76720885 -1.85117307\n",
        " -1.65366526 -0.96339721 -1.8319499   0.29240368  3.00946295  1.64257379\n",
        "  0.06520554  0.25511804  0.1709898 ]\n"
       ]
      },
      {
       "output_type": "stream",
       "stream": "stderr",
       "text": [
        "-c:42: RuntimeWarning: divide by zero encountered in log\n",
        "-c:42: RuntimeWarning: invalid value encountered in double_scalars\n",
        "-c:2: RuntimeWarning: divide by zero encountered in log\n",
        "-c:2: RuntimeWarning: invalid value encountered in double_scalars\n"
       ]
      },
      {
       "metadata": {},
       "output_type": "display_data",
       "png": "[encoded data removed]",
       "text": [
        "<matplotlib.figure.Figure at 0x7f1179072f28>"
       ]
      }
     ],
     "prompt_number": 6
    },
    {
     "cell_type": "code",
     "collapsed": false,
     "input": [
      "val_data = np.load('val_data.npy')\n",
      "val_label = np.load('val_label.npy')\n",
      "def predict(val_data, val_label):\n",
      "    loss = 0\n",
      "    num = len(val_data)\n",
      "    count = 0\n",
      "    for i in range(num):\n",
      "        z = np.dot(val_data[i], weight) + bias\n",
      "        a = sigmoid(z)\n",
      "        if (a<0.5 and val_label[i] == 0):\n",
      "            count += 1\n",
      "        elif (val_label[i] == 1):\n",
      "            count += 1\n",
      "        loss += compute_loss(a, val_label[i])\n",
      "    print (loss/num)\n",
      "    print (count/num)\n",
      "predict(val_data, val_label)"
     ],
     "language": "python",
     "metadata": {},
     "outputs": [
      {
       "output_type": "stream",
       "stream": "stdout",
       "text": [
        "0.172008175255\n",
        "0.9840319361277445\n"
       ]
      }
     ],
     "prompt_number": 7
    },
    {
     "cell_type": "code",
     "collapsed": false,
     "input": [],
     "language": "python",
     "metadata": {},
     "outputs": []
    }
   ],
   "metadata": {}
  }
 ]
}