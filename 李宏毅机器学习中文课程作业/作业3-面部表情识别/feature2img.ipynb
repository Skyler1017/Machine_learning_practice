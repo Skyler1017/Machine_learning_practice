{
 "metadata": {
  "name": "",
  "signature": "sha256:fbb7883c691f38b80a75e5ea60660b1b3a1e1c142bf51667eb4ef72c6b2d23d1"
 },
 "nbformat": 3,
 "nbformat_minor": 0,
 "worksheets": [
  {
   "cells": [
    {
     "cell_type": "code",
     "collapsed": false,
     "input": [
      "import cv2\n",
      "import numpy as np\n",
      "import pandas as pd"
     ],
     "language": "python",
     "metadata": {},
     "outputs": [],
     "prompt_number": 22
    },
    {
     "cell_type": "code",
     "collapsed": false,
     "input": [
      "feature = np.loadtxt('feature.csv')"
     ],
     "language": "python",
     "metadata": {},
     "outputs": [],
     "prompt_number": 33
    },
    {
     "cell_type": "code",
     "collapsed": false,
     "input": [
      "path = \"./face\"\n",
      "for i in range(len(feature)):\n",
      "    img = feature[i,:].reshape((48, 48))\n",
      "    cv2.imwrite(path+\"/\"+\"{}.jpg\".format(i), img)"
     ],
     "language": "python",
     "metadata": {},
     "outputs": [],
     "prompt_number": 34
    }
   ],
   "metadata": {}
  }
 ]
}