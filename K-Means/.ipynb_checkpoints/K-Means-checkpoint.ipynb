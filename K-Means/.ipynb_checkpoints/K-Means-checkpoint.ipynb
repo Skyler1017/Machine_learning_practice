{
 "metadata": {
  "name": "",
  "signature": "sha256:4556f2017803b7e5670e4627a7b828169e6be2143cd6450280b47f8325ac6302"
 },
 "nbformat": 3,
 "nbformat_minor": 0,
 "worksheets": []
}