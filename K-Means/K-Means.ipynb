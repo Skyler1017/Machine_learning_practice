{
 "metadata": {
  "name": "",
  "signature": "sha256:f2833f69f521fcd96a22d341baa1ab4959811fc3f4eb381bc9489e096bbba3c4"
 },
 "nbformat": 3,
 "nbformat_minor": 0,
 "worksheets": [
  {
   "cells": [
    {
     "cell_type": "code",
     "collapsed": false,
     "input": [
      "import numpy as np\n",
      "import matplotlib.pyplot as plt\n",
      "%matplotlib inline"
     ],
     "language": "python",
     "metadata": {},
     "outputs": [],
     "prompt_number": 1
    },
    {
     "cell_type": "code",
     "collapsed": false,
     "input": [
      "data = np.genfromtxt('testSet.txt')\n",
      "print(type(data))\n",
      "x = data[:,0]\n",
      "y = data[:,1]\n",
      "plt.scatter(x,y)\n",
      "plt.show()"
     ],
     "language": "python",
     "metadata": {},
     "outputs": [
      {
       "output_type": "stream",
       "stream": "stdout",
       "text": [
        "<class 'numpy.ndarray'>\n"
       ]
      },
      {
       "metadata": {},
       "output_type": "display_data",
       "png": "[encoded data removed]",
       "text": [
        "<matplotlib.figure.Figure at 0x7f524cf6ef60>"
       ]
      }
     ],
     "prompt_number": 30
    },
    {
     "cell_type": "code",
     "collapsed": false,
     "input": [
      "def compute_distance(centers, data, record):\n",
      "    for i in range(len(data)):\n",
      "        maxValue = float('inf')\n",
      "        index = -1\n",
      "        for j in range(len(centers)):\n",
      "            D = (centers[j][0]-data[i][0])**2 + (centers[j][1]-data[i][1])**2\n",
      "            #print (D, maxValue)\n",
      "            try:\n",
      "                if D < maxValue:\n",
      "                    maxValue = D\n",
      "                    index = j\n",
      "            except ValueError:\n",
      "                print (centers)\n",
      "                print (D, maxValue)\n",
      "                break\n",
      "        record[index][0] += data[i][0]\n",
      "        record[index][1] += data[i][1]\n",
      "        record[index][2] += 1\n",
      "    return record\n",
      "\n",
      "def updata_centers(centers, record):\n",
      "    change = False\n",
      "    for i in range(len(record)):\n",
      "        if record[i][2]:\n",
      "            record[i][0] /= record[i][2]\n",
      "            record[i][1] /= record[i][2]\n",
      "        #if centers[i][0] != record[i][0] or centers[i][1] != record[i][1]:\n",
      "        change = True\n",
      "        centers[i][0] = record[i][0] \n",
      "        centers[i][1] = record[i][1]\n",
      "    return change\n",
      "\n",
      "def k_means(k, data, epoches):\n",
      "    len1 = len(data[0])\n",
      "    centers = [[0.0]*len1 for _ in range(k)]\n",
      "    \n",
      "    for i in range(epoches):\n",
      "        record = [[0.0]*(len1+1) for _ in range(k)]\n",
      "        compute_distance(centers, data, record)\n",
      "        isChangge = updata_centers(centers, record)\n",
      "        if not isChangge:\n",
      "            break\n",
      "    return centers"
     ],
     "language": "python",
     "metadata": {},
     "outputs": [],
     "prompt_number": 12
    },
    {
     "cell_type": "code",
     "collapsed": false,
     "input": [
      "centers = k_means(4, data, 100)\n",
      "centers"
     ],
     "language": "python",
     "metadata": {},
     "outputs": [
      {
       "metadata": {},
       "output_type": "pyout",
       "prompt_number": 33,
       "text": [
        "[[-3.5397388947368418, -2.893843263157895],\n",
        " [2.6265298999999995, 3.1086801500000001],\n",
        " [-2.4615431499999998, 2.7873755500000006],\n",
        " [2.6507736666666668, -2.790190285714286]]"
       ]
      }
     ],
     "prompt_number": 33
    },
    {
     "cell_type": "code",
     "collapsed": false,
     "input": [
      "centers = np.array(centers)\n",
      "print (type(centers[:]))\n",
      "\n",
      "plt.scatter(x,y)\n",
      "plt.scatter(centers[:,0],centers[:,1],c='r', marker='x')\n",
      "plt.show"
     ],
     "language": "python",
     "metadata": {},
     "outputs": [
      {
       "output_type": "stream",
       "stream": "stdout",
       "text": [
        "<class 'numpy.ndarray'>\n"
       ]
      },
      {
       "metadata": {},
       "output_type": "pyout",
       "prompt_number": 35,
       "text": [
        "<function matplotlib.pyplot.show>"
       ]
      },
      {
       "metadata": {},
       "output_type": "display_data",
       "png": "[encoded data removed]",
       "text": [
        "<matplotlib.figure.Figure at 0x7f524cf629b0>"
       ]
      }
     ],
     "prompt_number": 35
    },
    {
     "cell_type": "code",
     "collapsed": false,
     "input": [],
     "language": "python",
     "metadata": {},
     "outputs": []
    }
   ],
   "metadata": {}
  }
 ]
}