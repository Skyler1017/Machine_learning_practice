{
 "metadata": {
  "name": "",
  "signature": "sha256:f977ca7695ea8424af3af730a0bc8171731d36a72de96e0b2b3d34cdc5f2dd0b"
 },
 "nbformat": 3,
 "nbformat_minor": 0,
 "worksheets": [
  {
   "cells": [
    {
     "cell_type": "code",
     "collapsed": false,
     "input": [
      "# -*- coding: utf-8 -*-\n",
      "import numpy as np\n",
      "from numpy.linalg import cholesky\n",
      "import matplotlib.pyplot as plt\n",
      "import tensorflow as tf\n",
      "from random import shuffle  # \u7528\u4e8e\u6253\u4e71\u6570\u636e\n",
      "from numpy import array\n",
      "import pandas as pd\n",
      "import seaborn as sns\n",
      "%matplotlib inline"
     ],
     "language": "python",
     "metadata": {},
     "outputs": [],
     "prompt_number": 3
    },
    {
     "cell_type": "code",
     "collapsed": false,
     "input": [
      "# 1\u3001get\u6d4b\u8bd5\u6570\u636e\n",
      "data = np.genfromtxt('testSet.txt')\n",
      "print(type(data))\n",
      "print(data.shape)\n",
      "x = data[:,0]\n",
      "y = data[:,1]\n",
      "plt.scatter(x,y)\n",
      "plt.show()"
     ],
     "language": "python",
     "metadata": {},
     "outputs": [
      {
       "output_type": "stream",
       "stream": "stdout",
       "text": [
        "<class 'numpy.ndarray'>\n",
        "(80, 2)\n"
       ]
      },
      {
       "metadata": {},
       "output_type": "display_data",
       "png": "[encoded data removed]",
       "text": [
        "<matplotlib.figure.Figure at 0x7f150433a2b0>"
       ]
      }
     ],
     "prompt_number": 4
    },
    {
     "cell_type": "code",
     "collapsed": false,
     "input": [
      "# 2\u3001\u5b9a\u4e49K-means\u7b97\u6cd5\n",
      "\n",
      "# 2.1 \u3001\u5b9a\u4e49K-means\u7b97\u6cd5\u51fd\u6570\n",
      "def kmeans(vectors, k_num):\n",
      "    \"\"\"\n",
      "    \u4f7f\u7528 TensorFlow \u5b9e\u73b0K-Means \u7b97\u6cd5\n",
      "    :param vectors: \u662f\u4e00\u4e2a n * k \u7684Numpy\u6570\u7ec4\uff0cn\u4ee3\u8868k\u7ef4\u5411\u91cf\u7684\u6570\u91cf\uff0c\u4e5f\u5c31\u662f\u6a21\u62df\u4ea7\u751f\u7684\u6570\u636e\u70b9\u7684Tensor\n",
      "    :param k_num: \u8868\u793a\u9700\u8981\u5206\u7c7b\u7684\u4e2a\u6570,\u662f\u4e00\u4e2a\u6574\u6570\n",
      "    \"\"\"\n",
      "    # \u5c06 k \u8f6c\u6362\u4e3a\u6574\u6570\n",
      "    k_num = int(k_num)\n",
      "\n",
      "    # \u5f02\u5e38\u5904\u7406\uff0c\u9632\u6b62\u540e\u7eed\u6570\u7ec4\u4e0b\u6807\u8d8a\u754c,\u9632\u6b62\u51fa\u73b0\u5206\u7c7b\u4e2a\u6570\u5927\u4e8e\u5b9e\u9645\u7684\u70b9\u7684\u4e2a\u6570\uff0c\u5982\u52064\u7c7b\uff0c\u7136\u800c\u53ea\u67092\u4e2a\u70b9\u7684\u60c5\u51b5\n",
      "    assert k_num < len(vectors)\n",
      "\n",
      "    # \u627e\u51fa\u6bcf\u4e2a\u5411\u91cf\u7684\u7ef4\u5ea6,\u5e73\u9762\u70b9\u7684\u7ef4\u5ea6\u4e3a2(x,y)\uff0c\u7a7a\u95f4\u70b9\u7ef4\u5ea6\u4e3a3(x,y,z)\n",
      "    dim = len(vectors[0])\n",
      "\n",
      "    # \u83b7\u53d6 vectors \u957f\u5ea6\u5927\u5c0f\u7684\u968f\u673a\u6570\u636e(\u672c\u4f8b\u4e2d\u4e3a80)\n",
      "    vector_indices = list(range(len(vectors)))\n",
      "\n",
      "    # \u6253\u4e71 vector_indices \u4e2d\u7684\u6240\u6709\u6570\u636e\uff0c\u80fd\u591f\u66f4\u597d\u7684\u6cdb\u5316\n",
      "    shuffle(vector_indices)\n",
      "\n",
      "    # \u8ba1\u7b97\u56fe\n",
      "    # \u6211\u4eec\u521b\u5efa\u4e86\u4e00\u4e2a\u9ed8\u8ba4\u7684\u8ba1\u7b97\u6d41\u7684\u56fe\u7528\u4e8e\u6574\u4e2a\u7b97\u6cd5\u4e2d\uff0c\u8fd9\u6837\u5c31\u4fdd\u8bc1\u4e86\u5f53\u51fd\u6570\u88ab\u591a\u6b21\u8c03\u7528\n",
      "    # \u65f6\uff0c\u59cb\u7ec8\u4f7f\u7528\u7684\u662f\u9ed8\u8ba4\u7684\u56fe\n",
      "    # https://www.cnblogs.com/studylyn/p/9105818.html\n",
      "    graph = tf.Graph()\n",
      "    with graph.as_default():\n",
      "        # \u521b\u5efa\u4f1a\u8bdd\n",
      "        with tf.Session() as sess:\n",
      "            # \u6784\u5efa\u57fa\u672c\u7684\u8ba1\u7b97\u7684\u5143\u7d20\n",
      "            # \u9996\u5148\u6211\u4eec\u9700\u8981\u4fdd\u8bc1\u6bcf\u4e2a\u4e2d\u5fc3\u70b9\u90fd\u4f1a\u5b58\u5728\u4e00\u4e2aVariable\u77e9\u9635\n",
      "            # \u4ece\u73b0\u6709\u7684\u70b9\u96c6\u5408\u4e2d vector_indices \u62bd\u53d6\u51fa\u524d k_num \u4e2a\u6570\u636e\u4f5c\u4e3a\u9ed8\u8ba4\u7684\u4e2d\u5fc3\u70b9,\u5e76\u4e14\u5b9a\u4e49\u4e3a tf \u7684\u53d8\u91cf,\n",
      "            # \u7528\u4e8e\u540e\u7eed\u7684\u4e2d\u5fc3\u70b9\u7684\u8fd0\u7b97\n",
      "            centroids = [tf.Variable((vectors[vector_indices[i]]))for i in range(k_num)]\n",
      "\n",
      "            # \u521b\u5efa\u4e00\u4e2aplaceholder\u7528\u4e8e\u5b58\u653e\u5404\u4e2a\u5206\u7c7b\u7684\u4e2d\u5fc3\u70b9\n",
      "            centroid_value = tf.placeholder(dtype=tf.float64, shape=[dim])\n",
      "\n",
      "            # centroid_value = tf.placeholder(\"float64\", [dim])\n",
      "\n",
      "            # \u7ed9 k_num \u4e2a\u4e2d\u5fc3\u70b9\u5411\u91cf\u8fdb\u884c\u8d4b\u503c,cent_assigns \u7528\u4e8e\u4fdd\u5b58\u4e2d\u5fc3\u70b9\u7684\u4f4d\u7f6e\u4fe1\u606f\n",
      "            cent_assigns = []\n",
      "            for centroid in centroids:\n",
      "                cent_assigns.append(tf.assign(centroid, centroid_value))\n",
      "\n",
      "            # assignments \u7528\u4e8e\u4fdd\u5b58 sampleNo \u4e2a\u70b9\u7684\u7ecf\u8fc7\u8ba1\u7b97\u5206\u7c7b\u540e\u4f4d\u7f6e\n",
      "            assignments = [tf.Variable(0) for i in range(len(vectors))]\n",
      "            # \u5b58\u50a8\u6bcf\u4e2a\u5355\u72ec\u7684\u70b9\u5230 k_num \u4e2a\u5206\u7c7b\u7684\u6700\u77ed\u8ddd\u79bb\n",
      "            assignment_value = tf.placeholder(dtype=tf.int32)\n",
      "            # cluster_assigns \u7684\u5927\u5c0f\u662f sampleNo = 80,\u5b58\u50a8\u7684\u662f\u6bcf\u4e2a\u70b9\u5230 k_num \u4e2a\u4e2d\u5fc3\u70b9\u4e2d\u7684\u6700\u5c0f\u7684\u4e00\u4e2a\u8ddd\u79bb\n",
      "            cluster_assigns = []\n",
      "            # \u521d\u59cb\u5316 cluster_assigns\n",
      "            for assignment in assignments:\n",
      "                cluster_assigns.append(tf.assign(assignment, assignment_value))\n",
      "\n",
      "            # \u4e0b\u9762\u521b\u5efa\u7528\u4e8e\u8ba1\u7b97\u5e73\u5747\u503c\u7684\u64cd\u4f5c\u8282\u70b9\n",
      "            # \u8f93\u5165\u7684placeholder\n",
      "            mean_input = tf.placeholder(dtype=tf.float64, shape=[None, dim])\n",
      "            # \u8282\u70b9/OP\u63a5\u53d7\u8f93\u5165\uff0c\u5e76\u4e14\u8ba1\u7b970\u7ef4\u5ea6\u7684\u5e73\u5747\u503c\uff0c\u5982\u8f93\u5165\u7684\u5411\u91cf\u5217\u8868\n",
      "            mean_op = tf.reduce_mean(mean_input, 0)\n",
      "\n",
      "            # \u7528\u4e8e\u8ba1\u7b97\u6b27\u51e0\u91cc\u5f97\u8ddd\u79bb\u7684\u8282\u70b9 distance = ((x1 - x2)^2 + (y1 - y2)^2)^(1/2)\n",
      "            v1 = tf.placeholder(dtype=tf.float64, shape=[dim])\n",
      "            v2 = tf.placeholder(dtype=tf.float64, shape=[dim])\n",
      "            # \u6ce8\u610f\uff1atf.mul  tf.sub   tf.neg \u5df2\u7ecf\u5e9f\u5f03, \u5206\u522b\u53ef\u7528tf.multiply  tf.subtract  tf.negative\u66ff\u4ee3.\n",
      "            euclid_dist = tf.sqrt(tf.reduce_sum(tf.pow(tf.subtract(v1, v2), 2)))\n",
      "\n",
      "            # \u8fd9\u4e2aOP\u4f1a\u51b3\u5b9a\u5e94\u8be5\u5c06\u5411\u91cf\u5f52\u5c5e\u5230\u54ea\u4e2a\u8282\u70b9\n",
      "            # \u57fa\u4e8e\u5411\u91cf\u5230\u4e2d\u5fc3\u70b9\u7684\u6b27\u51e0\u91cc\u5f97\u8ddd\u79bb\n",
      "            # Placeholder for input\n",
      "            centroid_distances = tf.placeholder(dtype=tf.float64, shape=[k_num])\n",
      "            # cluster_assignment \u8ba1\u7b97 k_num \u4e2a\u4e2d\u5fc3\u70b9\u7684\u6700\u77ed\u6b27\u51e0\u91cc\u5f97\u8ddd\u79bb\n",
      "            cluster_assignment = tf.argmin(centroid_distances, 0)\n",
      "\n",
      "            # \u521d\u59cb\u5316\u6240\u6709\u7684\u72b6\u6001\u503c,Variable_initializer\u5e94\u8be5\u5b9a\n",
      "            # \u4e49\u5728\u6240\u6709\u7684Variables\u88ab\u6784\u9020\u4e4b\u540e\uff0c\u8fd9\u6837\u6240\u6709\u7684Variables\u624d\u4f1a\u88ab\u7eb3\u5165\u521d\u59cb\u5316\n",
      "            init_op = tf.global_variables_initializer()\n",
      "\n",
      "            # \u521d\u59cb\u5316\u6240\u6709\u7684\u53d8\u91cf\n",
      "            sess.run(init_op)\n",
      "\n",
      "            # \u521b\u5efatensor\u56fe,\u5e76\u4fdd\u5b58\u5728\u5f53\u524d\u7684log\u76ee\u5f55\u4e0b\n",
      "            graph1 = tf.get_default_graph()\n",
      "            tf.summary.FileWriter(\"./log\", graph1)\n",
      "\n",
      "            # \u96c6\u7fa4\u904d\u5386\n",
      "            # \u63a5\u4e0b\u6765\u5728K-Means\u805a\u7c7b\u8fed\u4ee3\u4e2d\u4f7f\u7528\u6700\u5927\u671f\u671b\u7b97\u6cd5\u3002\u4e3a\u4e86\u7b80\u5355\u8d77\u89c1\uff0c\u53ea\u8ba9\u5b83\u6267\u884c\u56fa\n",
      "            # \u5b9a\u7684\u8bad\u7ec3\u7684\u6b21\u6570\u4e3a20\u6b21\uff0c\u800c\u4e0d\u8bbe\u7f6e\u4e00\u4e2a\u7ec8\u6b62\u6761\u4ef6\n",
      "            noofiterations = 20\n",
      "            for iteration_n in range(noofiterations):\n",
      "\n",
      "                # \u671f\u671b\u6b65\u9aa4\n",
      "                # \u57fa\u4e8e\u4e0a\u6b21\u8fed\u4ee3\u540e\u7b97\u51fa\u7684\u4e2d\u5fc3\u70b9\u7684\u4f4d\u7f6e\n",
      "                # 1.\u9996\u5148\u904d\u5386\u6240\u6709\u7684\u5411\u91cf,len(vectors)\u5728\u6b64\u6848\u4f8b\u4e2d\u503c\u4e3a sampleNo = 80\n",
      "                # \u8ba1\u7b97\u6bcf\u4e2a\u70b9\u5230 k_num \u4e2a\u5206\u7c7b\u4e2d\u5fc3\u70b9\u7684\u6700\u77ed\u8ddd\u79bb,\u5e76\u5b58\u50a8\u5728 cluster_assigns \u4e2d\n",
      "                for vector_n in range(len(vectors)):\n",
      "                    # \u83b7\u53d6\u7b2c vector_n \u4e2a\u5411\u91cf,\u53d6\u503c\u8303\u56f4\u5728[0,79]\n",
      "                    vect = vectors[vector_n]\n",
      "\n",
      "                    # \u5f53\u524d\u70b9\u4e0e k_num \u4e2a\u5206\u7c7b\u7684\u4e2d\u5fc3\u70b9\u6b27\u51e0\u91cc\u5f97\u8ddd\u79bb\n",
      "                    distances = [sess.run(euclid_dist, feed_dict={\n",
      "                        v1: vect, v2: sess.run(centroid)}) for centroid in centroids]\n",
      "\n",
      "                    # \u83b7\u53d6\u5f53\u524d\u70b9\u5230 k_num \u4e2a\u5206\u7c7b\u4e2d\u5fc3\u70b9\u7684\u6700\u77ed\u8ddd\u79bb,\u76ee\u7684\u662f\u4e3a\u4e86\u540e\u7eed\u9009\u62e9\u6700\u8fd1\u8ddd\u79bb\u7684\u4e2d\u5fc3\u70b9\n",
      "                    assignment = sess.run(cluster_assignment, feed_dict={\n",
      "                        centroid_distances: distances})\n",
      "\n",
      "                    # \u63a5\u4e0b\u6765\u4e3a\u6bcf\u4e2a\u5411\u91cf\u5206\u914d\u5408\u9002\u7684\u503c\n",
      "                    sess.run(cluster_assigns[vector_n], feed_dict={\n",
      "                        assignment_value: assignment})\n",
      "\n",
      "                # 2.\u5c06\u6240\u6709\u70b9\u8fdb\u884c\u5206\u7c7b\n",
      "                # \u57fa\u4e8e\u4e0a\u8ff0\u7684\u671f\u671b\u6b65\u9aa4\uff0c\u8ba1\u7b97\u6bcf\u4e2a\u65b0\u7684\u4e2d\u5fc3\u70b9\u7684\u8ddd\u79bb\u4ece\u800c\u4f7f\u96c6\u7fa4\u5185\u7684\u5e73\u65b9\u548c\u6700\u5c0f\n",
      "                for cluster_n in range(k_num):\n",
      "                    # \u6536\u96c6 k_num \u4e2a\u5206\u7c7b\u4e2d,\u5bf9\u5e94\u6bcf\u4e2a\u5206\u7c7b\u7684\u6570\u636e\n",
      "                    assigned_vects = [vectors[i] for i in range(len(vectors))\n",
      "                                      if sess.run(assignments[i]) == cluster_n]\n",
      "\n",
      "                    # \u91c7\u7528\u5e73\u5747\u503c\u7684\u8ba1\u7b97\u65b9\u5f0f\u91cd\u65b0\u8ba1\u7b97\u6bcf\u4e2a\u5206\u7c7b\u96c6\u7fa4\u65b0\u7684\u4e2d\u5fc3\u70b9\n",
      "                    new_location = sess.run(mean_op, feed_dict={\n",
      "                        mean_input: array(assigned_vects)})\n",
      "\n",
      "                    # \u4e3a k_num \u4e2a\u5206\u7c7b\u5206\u914d\u65b0\u7684\u4e2d\u5fc3\u70b9\n",
      "                    sess.run(cent_assigns[cluster_n], feed_dict={\n",
      "                        centroid_value: new_location})\n",
      "\n",
      "            # \u8fd4\u56de k_num \u4e2a\u4e2d\u5fc3\u8282\u70b9\n",
      "            centroids = sess.run(centroids)\n",
      "            # \u8fd4\u56de k_num \u4e2a\u5206\u7ec4\n",
      "            assignments = sess.run(assignments)\n",
      "\n",
      "            return centroids, assignments\n"
     ],
     "language": "python",
     "metadata": {},
     "outputs": [],
     "prompt_number": 5
    },
    {
     "cell_type": "code",
     "collapsed": false,
     "input": [
      "# 2.2\u3001\u5b9a\u4e49\u805a\u7c7b\u7684\u4e2a\u6570,\u5e76\u4f7f\u7528kmeans\u7b97\u6cd5\u53bb\u8ba1\u7b97\n",
      "k = 4\n",
      "center, result = kmeans(data, k)\n",
      "\n",
      "print (np.array(result).shape)\n",
      "\n",
      "\n",
      "# \u6253\u5370 k \u4e2a\u4e2d\u5fc3\u70b9\n",
      "print (center)"
     ],
     "language": "python",
     "metadata": {},
     "outputs": [
      {
       "output_type": "stream",
       "stream": "stdout",
       "text": [
        "(80,)\n",
        "[array([-2.46154315,  2.78737555]), array([ 2.80293085, -2.7315146 ]), array([ 2.6265299 ,  3.10868015]), array([-3.38237045, -2.9473363 ])]\n"
       ]
      }
     ],
     "prompt_number": 6
    },
    {
     "cell_type": "code",
     "collapsed": false,
     "input": [
      "# 3\u3001\u6574\u7406\u7ed3\u679c,\u5e76\u4e14 \u753bresult\u56fe\n",
      "centers = np.array(center)\n",
      "print (type(centers[:]))\n",
      "\n",
      "plt.scatter(x,y)\n",
      "plt.scatter(centers[:,0],centers[:,1],c='r', marker='x')\n",
      "plt.show"
     ],
     "language": "python",
     "metadata": {},
     "outputs": [
      {
       "output_type": "stream",
       "stream": "stdout",
       "text": [
        "<class 'numpy.ndarray'>\n"
       ]
      },
      {
       "metadata": {},
       "output_type": "pyout",
       "prompt_number": 5,
       "text": [
        "<function matplotlib.pyplot.show>"
       ]
      },
      {
       "metadata": {},
       "output_type": "display_data",
       "png": "[encoded data removed]",
       "text": [
        "<matplotlib.figure.Figure at 0x7ff6d05dfa20>"
       ]
      }
     ],
     "prompt_number": 5
    },
    {
     "cell_type": "code",
     "collapsed": false,
     "input": [],
     "language": "python",
     "metadata": {},
     "outputs": []
    }
   ],
   "metadata": {}
  }
 ]
}